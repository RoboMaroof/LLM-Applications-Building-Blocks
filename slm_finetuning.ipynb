{
  "nbformat": 4,
  "nbformat_minor": 0,
  "metadata": {
    "colab": {
      "provenance": [],
      "authorship_tag": "ABX9TyNSh1ze7L6qaLw3hKnN+gm0",
      "include_colab_link": true
    },
    "kernelspec": {
      "name": "python3",
      "display_name": "Python 3"
    },
    "language_info": {
      "name": "python"
    }
  },
  "cells": [
    {
      "cell_type": "markdown",
      "metadata": {
        "id": "view-in-github",
        "colab_type": "text"
      },
      "source": [
        "<a href=\"https://colab.research.google.com/github/RoboMaroof/LLM-Applications-Building-Blocks/blob/main/slm_finetuning.ipynb\" target=\"_parent\"><img src=\"https://colab.research.google.com/assets/colab-badge.svg\" alt=\"Open In Colab\"/></a>"
      ]
    },
    {
      "cell_type": "markdown",
      "source": [
        "model specific code\n",
        "dataset pre processing\n",
        "dataset save and load locally\n",
        "ouput comparison"
      ],
      "metadata": {
        "id": "faNl3ty1ZzAs"
      }
    },
    {
      "cell_type": "markdown",
      "source": [
        "# Installs and Imports"
      ],
      "metadata": {
        "id": "5XnQTE9goZb1"
      }
    },
    {
      "cell_type": "code",
      "execution_count": null,
      "metadata": {
        "colab": {
          "base_uri": "https://localhost:8080/"
        },
        "id": "qOPvmZ6Vlxet",
        "outputId": "21f482ab-9642-4211-edf0-79b49b159007"
      },
      "outputs": [
        {
          "output_type": "stream",
          "name": "stdout",
          "text": [
            "\u001b[2K     \u001b[90m━━━━━━━━━━━━━━━━━━━━━━━━━━━━━━━━━━━━━━━━\u001b[0m \u001b[32m116.9/116.9 kB\u001b[0m \u001b[31m3.6 MB/s\u001b[0m eta \u001b[36m0:00:00\u001b[0m\n",
            "\u001b[2K   \u001b[90m━━━━━━━━━━━━━━━━━━━━━━━━━━━━━━━━━━━━━━━━\u001b[0m \u001b[32m244.2/244.2 kB\u001b[0m \u001b[31m9.0 MB/s\u001b[0m eta \u001b[36m0:00:00\u001b[0m\n",
            "\u001b[2K   \u001b[90m━━━━━━━━━━━━━━━━━━━━━━━━━━━━━━━━━━━━━━━━\u001b[0m \u001b[32m72.9/72.9 kB\u001b[0m \u001b[31m4.3 MB/s\u001b[0m eta \u001b[36m0:00:00\u001b[0m\n",
            "\u001b[2K   \u001b[90m━━━━━━━━━━━━━━━━━━━━━━━━━━━━━━━━━━━━━━━━\u001b[0m \u001b[32m92.5/92.5 MB\u001b[0m \u001b[31m6.7 MB/s\u001b[0m eta \u001b[36m0:00:00\u001b[0m\n",
            "\u001b[2K   \u001b[90m━━━━━━━━━━━━━━━━━━━━━━━━━━━━━━━━━━━━━━━━\u001b[0m \u001b[32m7.4/7.4 MB\u001b[0m \u001b[31m93.6 MB/s\u001b[0m eta \u001b[36m0:00:00\u001b[0m\n",
            "\u001b[2K   \u001b[90m━━━━━━━━━━━━━━━━━━━━━━━━━━━━━━━━━━━━━━━━\u001b[0m \u001b[32m77.4/77.4 kB\u001b[0m \u001b[31m4.9 MB/s\u001b[0m eta \u001b[36m0:00:00\u001b[0m\n",
            "\u001b[2K   \u001b[90m━━━━━━━━━━━━━━━━━━━━━━━━━━━━━━━━━━━━━━━━\u001b[0m \u001b[32m7.8/7.8 MB\u001b[0m \u001b[31m87.6 MB/s\u001b[0m eta \u001b[36m0:00:00\u001b[0m\n",
            "\u001b[?25h"
          ]
        }
      ],
      "source": [
        "!pip install -q accelerate==0.21.0 peft==0.4.0 bitsandbytes==0.40.2 transformers==4.31.0 trl==0.4.7"
      ]
    },
    {
      "cell_type": "code",
      "source": [
        "import os\n",
        "import torch\n",
        "from datasets import load_dataset\n",
        "from transformers import (\n",
        "    AutoModelForCausalLM,\n",
        "    AutoTokenizer,\n",
        "    BitsAndBytesConfig,\n",
        "    HfArgumentParser,\n",
        "    TrainingArguments,\n",
        "    pipeline,\n",
        "    logging,\n",
        ")\n",
        "from peft import LoraConfig, PeftModel\n",
        "from trl import SFTTrainer"
      ],
      "metadata": {
        "id": "EtsP5ybSoPwT"
      },
      "execution_count": null,
      "outputs": []
    },
    {
      "cell_type": "markdown",
      "source": [
        "# Choose Small Langauge Model"
      ],
      "metadata": {
        "id": "vX_gufteowMc"
      }
    },
    {
      "cell_type": "markdown",
      "source": [
        "Choose SLM to finetune from below list:\n",
        "\n",
        "\n",
        "\n",
        "*   [microsoft/Phi-3-mini-4k-instruct](https://huggingface.co/microsoft/Phi-3-mini-4k-instruct)\n",
        "*   [google/gemma-2b](https://huggingface.co/google/gemma-2b)\n",
        "*   [TinyLlama/TinyLlama-1.1B-Chat-v1.0](https://huggingface.co/TinyLlama/TinyLlama-1.1B-Chat-v1.0)\n",
        "*   [apple/OpenELM-3B-Instruct](https://huggingface.co/apple/OpenELM-3B-Instruct)\n",
        "*   [NousResearch/Llama-2-7b-chat-hf](https://huggingface.co/NousResearch/Llama-2-7b-chat-hf)\n",
        "*   [facebook/opt-350m](https://huggingface.co/facebook/opt-350m)\n",
        "*   [EleutherAI/gpt-neo-125m](https://huggingface.co/EleutherAI/gpt-neo-125m)\n",
        "*   [bigscience/bloom-7b1](https://huggingface.co/bigscience/bloom-7b1)\n"
      ],
      "metadata": {
        "id": "L7ORzdiwrDZs"
      }
    },
    {
      "cell_type": "code",
      "source": [
        "model_name = \"google/gemma-2b\"\n",
        "ft_model = f\"{model_name}_ft\""
      ],
      "metadata": {
        "id": "uw1VtOp1vLmq"
      },
      "execution_count": null,
      "outputs": []
    },
    {
      "cell_type": "markdown",
      "source": [
        "## General HF models\n",
        "\n"
      ],
      "metadata": {
        "id": "-HeyysxApcI0"
      }
    },
    {
      "cell_type": "code",
      "source": [],
      "metadata": {
        "id": "8Wc28RGMqx6-"
      },
      "execution_count": null,
      "outputs": []
    },
    {
      "cell_type": "markdown",
      "source": [
        "## Models with sepcial requirements"
      ],
      "metadata": {
        "id": "yTYX-sS6AP5w"
      }
    },
    {
      "cell_type": "markdown",
      "source": [
        "## phi3-mini"
      ],
      "metadata": {
        "id": "MWp7Fmu6piHS"
      }
    },
    {
      "cell_type": "markdown",
      "source": [
        "### llama2"
      ],
      "metadata": {
        "id": "HVvgYKKwASvO"
      }
    },
    {
      "cell_type": "code",
      "source": [],
      "metadata": {
        "id": "nws-9HKNpKhi"
      },
      "execution_count": null,
      "outputs": []
    },
    {
      "cell_type": "markdown",
      "source": [
        "# Dataset"
      ],
      "metadata": {
        "id": "dNUv3H-Cvjr6"
      }
    },
    {
      "cell_type": "markdown",
      "source": [
        "## Load from Hugging Face"
      ],
      "metadata": {
        "id": "wwI-kbvJAcAb"
      }
    },
    {
      "cell_type": "code",
      "source": [
        "dataset_name = \"mlabonne/guanaco-llama2-1k\""
      ],
      "metadata": {
        "id": "adeIYmuCBPVW"
      },
      "execution_count": null,
      "outputs": []
    },
    {
      "cell_type": "code",
      "source": [
        "dataset = load_dataset(dataset_name, split=\"train\")"
      ],
      "metadata": {
        "id": "LJASYfrKFTpU"
      },
      "execution_count": null,
      "outputs": []
    },
    {
      "cell_type": "markdown",
      "source": [
        "## Reformat (if required)"
      ],
      "metadata": {
        "id": "maO9IbOBEqjC"
      }
    },
    {
      "cell_type": "markdown",
      "source": [
        "## Save locally"
      ],
      "metadata": {
        "id": "lXhiAVguAh2L"
      }
    },
    {
      "cell_type": "markdown",
      "source": [
        "## Load locally"
      ],
      "metadata": {
        "id": "ckvi1Ge1AkV2"
      }
    },
    {
      "cell_type": "code",
      "source": [],
      "metadata": {
        "id": "nONxdIdpvzXH"
      },
      "execution_count": null,
      "outputs": []
    },
    {
      "cell_type": "markdown",
      "source": [
        "# LoRA"
      ],
      "metadata": {
        "id": "f1LvgRkZBYuO"
      }
    },
    {
      "cell_type": "markdown",
      "source": [
        "## LoRA parameters"
      ],
      "metadata": {
        "id": "uScnOy0HBdr2"
      }
    },
    {
      "cell_type": "code",
      "source": [
        "# LoRA attention dimension\n",
        "lora_r = 64\n",
        "# Alpha parameter for LoRA scaling\n",
        "lora_alpha = 16\n",
        "# Dropout probability for LoRA layers\n",
        "lora_dropout = 0.1"
      ],
      "metadata": {
        "id": "DJsh-XVZBbNe"
      },
      "execution_count": null,
      "outputs": []
    },
    {
      "cell_type": "code",
      "source": [
        "# Load LoRA configuration\n",
        "peft_config = LoraConfig(\n",
        "    lora_alpha=lora_alpha,\n",
        "    lora_dropout=lora_dropout,\n",
        "    r=lora_r,\n",
        "    bias=\"none\",\n",
        "    task_type=\"CAUSAL_LM\",\n",
        ")"
      ],
      "metadata": {
        "id": "530cerjkOz2a"
      },
      "execution_count": null,
      "outputs": []
    },
    {
      "cell_type": "markdown",
      "source": [
        "## LoRA Config"
      ],
      "metadata": {
        "id": "vkNjNd1ZOwf0"
      }
    },
    {
      "cell_type": "markdown",
      "source": [
        "## Bitsandbytes parameters (QLoRA)"
      ],
      "metadata": {
        "id": "aeuLvejrB4a3"
      }
    },
    {
      "cell_type": "code",
      "source": [
        "# Activate 4-bit precision base model loading\n",
        "use_4bit = True\n",
        "# Compute dtype for 4-bit base models\n",
        "bnb_4bit_compute_dtype = \"float16\"\n",
        "# Quantization type (fp4 or nf4)\n",
        "bnb_4bit_quant_type = \"nf4\"\n",
        "# Activate nested quantization for 4-bit base models (double quantization)\n",
        "use_nested_quant = False\n",
        "\n",
        "compute_dtype = getattr(torch, bnb_4bit_compute_dtype)\n",
        "\n",
        "bnb_config = BitsAndBytesConfig(\n",
        "    load_in_4bit=use_4bit,\n",
        "    bnb_4bit_quant_type=bnb_4bit_quant_type,\n",
        "    bnb_4bit_compute_dtype=compute_dtype,\n",
        "    bnb_4bit_use_double_quant=use_nested_quant,\n",
        ")\n",
        "\n",
        "# Check GPU compatibility with bfloat16\n",
        "if compute_dtype == torch.float16 and use_4bit:\n",
        "    major, _ = torch.cuda.get_device_capability()\n",
        "    if major >= 8:\n",
        "        print(\"=\" * 80)\n",
        "        print(\"Your GPU supports bfloat16: accelerate training with bf16=True\")\n",
        "        print(\"=\" * 80)"
      ],
      "metadata": {
        "id": "_5FimCjrB-AC"
      },
      "execution_count": null,
      "outputs": []
    },
    {
      "cell_type": "markdown",
      "source": [
        "## SFT parameters"
      ],
      "metadata": {
        "id": "ul1gPopOESCD"
      }
    },
    {
      "cell_type": "code",
      "source": [
        "# Maximum sequence length to use\n",
        "max_seq_length = None\n",
        "# Pack multiple short examples in the same input sequence to increase efficiency\n",
        "packing = False\n",
        "# Load the entire model on the GPU 0\n",
        "device_map = {\"\": 0}"
      ],
      "metadata": {
        "id": "BpRQJsm9EaY8"
      },
      "execution_count": null,
      "outputs": []
    },
    {
      "cell_type": "code",
      "source": [
        "# Set supervised fine-tuning parameters\n",
        "trainer = SFTTrainer(\n",
        "    model=model,\n",
        "    train_dataset=dataset,\n",
        "    peft_config=peft_config,\n",
        "    dataset_text_field=\"text\",\n",
        "    max_seq_length=max_seq_length,\n",
        "    tokenizer=tokenizer,\n",
        "    args=training_arguments,\n",
        "    packing=packing,\n",
        ")"
      ],
      "metadata": {
        "id": "Yrv8vNu-PHGX"
      },
      "execution_count": null,
      "outputs": []
    },
    {
      "cell_type": "markdown",
      "source": [
        "## Training parameters"
      ],
      "metadata": {
        "id": "SXxGQ56kDeXF"
      }
    },
    {
      "cell_type": "code",
      "source": [
        "# Output directory where the model predictions and checkpoints will be stored\n",
        "output_dir = \"./results\"\n",
        "# Number of training epochs\n",
        "num_train_epochs = 1\n",
        "# Enable fp16/bf16 training (set bf16 to True with an A100)\n",
        "fp16 = False\n",
        "bf16 = False\n",
        "# Batch size per GPU for training\n",
        "per_device_train_batch_size = 4\n",
        "# Batch size per GPU for evaluation\n",
        "per_device_eval_batch_size = 4\n",
        "# Number of update steps to accumulate the gradients for\n",
        "gradient_accumulation_steps = 1\n",
        "# Enable gradient checkpointing\n",
        "gradient_checkpointing = True\n",
        "# Maximum gradient normal (gradient clipping)\n",
        "max_grad_norm = 0.3\n",
        "# Initial learning rate (AdamW optimizer)\n",
        "learning_rate = 2e-4\n",
        "# Weight decay to apply to all layers except bias/LayerNorm weights\n",
        "weight_decay = 0.001\n",
        "# Optimizer to use\n",
        "optim = \"paged_adamw_32bit\"\n",
        "# Learning rate schedule\n",
        "lr_scheduler_type = \"cosine\"\n",
        "# Number of training steps (overrides num_train_epochs)\n",
        "max_steps = -1\n",
        "# Ratio of steps for a linear warmup (from 0 to learning rate)\n",
        "warmup_ratio = 0.03\n",
        "# Group sequences into batches with same length\n",
        "# Saves memory and speeds up training considerably\n",
        "group_by_length = True\n",
        "# Save checkpoint every X updates steps\n",
        "save_steps = 0\n",
        "# Log every X updates steps\n",
        "logging_steps = 25"
      ],
      "metadata": {
        "id": "XNvVtevVDhU9"
      },
      "execution_count": null,
      "outputs": []
    },
    {
      "cell_type": "code",
      "source": [
        "# Set training parameters\n",
        "training_arguments = TrainingArguments(\n",
        "    output_dir=output_dir,\n",
        "    num_train_epochs=num_train_epochs,\n",
        "    per_device_train_batch_size=per_device_train_batch_size,\n",
        "    gradient_accumulation_steps=gradient_accumulation_steps,\n",
        "    optim=optim,\n",
        "    save_steps=save_steps,\n",
        "    logging_steps=logging_steps,\n",
        "    learning_rate=learning_rate,\n",
        "    weight_decay=weight_decay,\n",
        "    fp16=fp16,\n",
        "    bf16=bf16,\n",
        "    max_grad_norm=max_grad_norm,\n",
        "    max_steps=max_steps,\n",
        "    warmup_ratio=warmup_ratio,\n",
        "    group_by_length=group_by_length,\n",
        "    lr_scheduler_type=lr_scheduler_type,\n",
        "    report_to=\"tensorboard\"\n",
        ")"
      ],
      "metadata": {
        "id": "4eoiEQX3PBLc"
      },
      "execution_count": null,
      "outputs": []
    },
    {
      "cell_type": "markdown",
      "source": [
        "# Training\n"
      ],
      "metadata": {
        "id": "5v6Ia6vRNg4O"
      }
    },
    {
      "cell_type": "markdown",
      "source": [
        "## Load Model"
      ],
      "metadata": {
        "id": "wGlfd2wMNX-v"
      }
    },
    {
      "cell_type": "code",
      "source": [
        "model = AutoModelForCausalLM.from_pretrained(\n",
        "    model_name,\n",
        "    quantization_config=bnb_config,\n",
        "    device_map=device_map\n",
        ")\n",
        "model.config.use_cache = False\n",
        "model.config.pretraining_tp = 1"
      ],
      "metadata": {
        "id": "y2UA4E4LNcHO"
      },
      "execution_count": null,
      "outputs": []
    },
    {
      "cell_type": "markdown",
      "source": [
        "## Load Tokenizer"
      ],
      "metadata": {
        "id": "kVt1WzSIOGSl"
      }
    },
    {
      "cell_type": "code",
      "source": [
        "tokenizer = AutoTokenizer.from_pretrained(model_name, trust_remote_code=True)\n",
        "tokenizer.pad_token = tokenizer.eos_token\n",
        "tokenizer.padding_side = \"right\" # Fix weird overflow issue with fp16 training"
      ],
      "metadata": {
        "id": "X-ZW-GG5OIvG"
      },
      "execution_count": null,
      "outputs": []
    },
    {
      "cell_type": "markdown",
      "source": [
        "## Train Model"
      ],
      "metadata": {
        "id": "3xWoRY9OPPBK"
      }
    },
    {
      "cell_type": "code",
      "source": [
        "trainer.train()"
      ],
      "metadata": {
        "id": "bm8nCxz3PR6m"
      },
      "execution_count": null,
      "outputs": []
    },
    {
      "cell_type": "markdown",
      "source": [
        "## Save trained model"
      ],
      "metadata": {
        "id": "OtXPKaA8Ph5o"
      }
    },
    {
      "cell_type": "code",
      "source": [
        "trainer.model.save_pretrained(new_model)"
      ],
      "metadata": {
        "id": "608ndw4XPlWP"
      },
      "execution_count": null,
      "outputs": []
    },
    {
      "cell_type": "markdown",
      "source": [
        "## Merge Base model with trained adaptors"
      ],
      "metadata": {
        "id": "fOjJpczjSzRN"
      }
    },
    {
      "cell_type": "code",
      "source": [
        "# Reload model in FP16 and merge it with LoRA weights\n",
        "base_model = AutoModelForCausalLM.from_pretrained(\n",
        "    model_name,\n",
        "    low_cpu_mem_usage=True,\n",
        "    return_dict=True,\n",
        "    torch_dtype=torch.float16,\n",
        "    device_map=device_map,\n",
        ")\n",
        "model = PeftModel.from_pretrained(base_model, new_model)\n",
        "model = model.merge_and_unload()\n",
        "\n",
        "# Reload tokenizer to save it\n",
        "tokenizer = AutoTokenizer.from_pretrained(model_name, trust_remote_code=True)\n",
        "tokenizer.pad_token = tokenizer.eos_token\n",
        "tokenizer.padding_side = \"right\""
      ],
      "metadata": {
        "id": "m1HmbZBSTD-1"
      },
      "execution_count": null,
      "outputs": []
    },
    {
      "cell_type": "markdown",
      "source": [
        "# Analysis"
      ],
      "metadata": {
        "id": "AwHuYdvdPs-C"
      }
    },
    {
      "cell_type": "markdown",
      "source": [
        "## Training analysis"
      ],
      "metadata": {
        "id": "jk9rJZL1QA88"
      }
    },
    {
      "cell_type": "code",
      "source": [
        "%load_ext tensorboard\n",
        "%tensorboard --logdir results/runs"
      ],
      "metadata": {
        "id": "wjmIoPovPu25"
      },
      "execution_count": null,
      "outputs": []
    },
    {
      "cell_type": "markdown",
      "source": [
        "## Output comparison"
      ],
      "metadata": {
        "id": "5pxlys40QGUd"
      }
    },
    {
      "cell_type": "markdown",
      "source": [
        "## Output of base Model"
      ],
      "metadata": {
        "id": "tI5D9Q62R1UP"
      }
    },
    {
      "cell_type": "code",
      "source": [],
      "metadata": {
        "id": "WL5AztvFQJ9E"
      },
      "execution_count": null,
      "outputs": []
    },
    {
      "cell_type": "markdown",
      "source": [
        "## Output of finetuned model"
      ],
      "metadata": {
        "id": "HdY_G_fMSBLX"
      }
    },
    {
      "cell_type": "code",
      "source": [
        "# Ignore warnings\n",
        "logging.set_verbosity(logging.CRITICAL)\n",
        "\n",
        "# Run text generation pipeline with our next model\n",
        "prompt = \"What is a large language model?\"\n",
        "pipe = pipeline(task=\"text-generation\", model=model, tokenizer=tokenizer, max_length=200)\n",
        "result = pipe(f\"<s>[INST] {prompt} [/INST]\")\n",
        "print(result[0]['generated_text'])"
      ],
      "metadata": {
        "id": "NCCjVOnbSFN5"
      },
      "execution_count": null,
      "outputs": []
    },
    {
      "cell_type": "markdown",
      "source": [
        "# Clear memory"
      ],
      "metadata": {
        "id": "ag78Tl8GSPbN"
      }
    },
    {
      "cell_type": "code",
      "source": [
        "# Empty VRAM\n",
        "del model\n",
        "del pipe\n",
        "del trainer\n",
        "import gc\n",
        "gc.collect()\n",
        "gc.collect()"
      ],
      "metadata": {
        "id": "2sTdk-NhSRf1"
      },
      "execution_count": null,
      "outputs": []
    }
  ]
}